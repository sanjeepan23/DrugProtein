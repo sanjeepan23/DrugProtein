{
  "nbformat": 4,
  "nbformat_minor": 0,
  "metadata": {
    "colab": {
      "provenance": []
    },
    "kernelspec": {
      "name": "python3",
      "display_name": "Python 3"
    },
    "language_info": {
      "name": "python"
    }
  },
  "cells": [
    {
      "cell_type": "code",
      "execution_count": 154,
      "metadata": {
        "id": "vaBF6wPd7km0"
      },
      "outputs": [],
      "source": [
        "import re\n",
        "import pandas as pd\n",
        "import numpy as np\n",
        "import plotly.express as px\n",
        "\n",
        "from xgboost import XGBClassifier\n",
        "from lightgbm import LGBMClassifier\n",
        "from sklearn.ensemble import RandomForestClassifier\n",
        "from sklearn.tree import DecisionTreeClassifier\n",
        "from sklearn.svm import SVC\n",
        "from sklearn.neighbors import KNeighborsClassifier\n",
        "from sklearn.model_selection import train_test_split, cross_val_predict, cross_val_score, cross_validate, GridSearchCV, RandomizedSearchCV\n",
        "from sklearn.metrics import accuracy_score , recall_score , precision_score , f1_score , roc_curve , auc, confusion_matrix\n",
        "\n",
        "import warnings\n",
        "warnings.filterwarnings('ignore')\n",
        "warnings.simplefilter('ignore')\n",
        "\n",
        "RANDOM_STATE = 1823"
      ]
    },
    {
      "cell_type": "code",
      "source": [
        "AAC_TR = pd.read_csv(\"/content/drive/MyDrive/Predicting druggable proteins Assignment/output/AAC/AAC-TR.csv\")\n",
        "AAC_TS = pd.read_csv(\"/content/drive/MyDrive/Predicting druggable proteins Assignment/output/AAC/AAC-TS.csv\")\n",
        "\n",
        "APAAC_TR = pd.read_csv(\"/content/drive/MyDrive/Predicting druggable proteins Assignment/output/APAAC/APAAC-TR.csv\")\n",
        "APAAC_TS = pd.read_csv(\"/content/drive/MyDrive/Predicting druggable proteins Assignment/output/APAAC/APAAC-TS.csv\")\n",
        "\n",
        "PAAC_TR = pd.read_csv(\"/content/drive/MyDrive/Predicting druggable proteins Assignment/output/PAAC/PAAC-TR.csv\")\n",
        "PAAC_TS = pd.read_csv(\"/content/drive/MyDrive/Predicting druggable proteins Assignment/output/PAAC/PAAC-TS.csv\")\n",
        "\n",
        "RSacid_TR = pd.read_csv(\"/content/drive/MyDrive/Predicting druggable proteins Assignment/output/RSacid/RSacid-TR.csv\")\n",
        "RSacid_TS = pd.read_csv(\"/content/drive/MyDrive/Predicting druggable proteins Assignment/output/RSacid/RSacid-TS.csv\")\n",
        "\n",
        "RScharge_TR = pd.read_csv(\"/content/drive/MyDrive/Predicting druggable proteins Assignment/output/RScharge/RScharge-TR.csv\")\n",
        "RScharge_TS = pd.read_csv(\"/content/drive/MyDrive/Predicting druggable proteins Assignment/output/RScharge/RScharge-TS.csv\")"
      ],
      "metadata": {
        "id": "uQ7qBT5JGja2"
      },
      "execution_count": 100,
      "outputs": []
    },
    {
      "cell_type": "code",
      "source": [
        "APAAC_TR.shape"
      ],
      "metadata": {
        "colab": {
          "base_uri": "https://localhost:8080/"
        },
        "id": "9a-At5bAvzU3",
        "outputId": "9d0341de-9e22-408f-a927-216230d05fa8"
      },
      "execution_count": 45,
      "outputs": [
        {
          "output_type": "execute_result",
          "data": {
            "text/plain": [
              "(2542, 24)"
            ]
          },
          "metadata": {},
          "execution_count": 45
        }
      ]
    },
    {
      "cell_type": "markdown",
      "source": [
        "## Q2"
      ],
      "metadata": {
        "id": "qGR9Jf_IfVWi"
      }
    },
    {
      "cell_type": "code",
      "source": [
        "datasets = {  \n",
        "    \"data\": [\n",
        "      {\n",
        "          \"train\": AAC_TR,\n",
        "          \"test\": AAC_TS,\n",
        "          \"target\" : \"id\",\n",
        "          \"cols\" : ['AAC_0', 'AAC_1', 'AAC_2', 'AAC_3', 'AAC_4', 'AAC_5',\n",
        "        'AAC_6', 'AAC_7', 'AAC_8', 'AAC_9', 'AAC_10', 'AAC_11', 'AAC_12',\n",
        "        'AAC_13', 'AAC_14', 'AAC_15', 'AAC_16', 'AAC_17', 'AAC_18', 'AAC_19']\n",
        "      },\n",
        "      {\n",
        "        \"train\": APAAC_TR,\n",
        "        \"test\": APAAC_TS,\n",
        "        \"target\" : \"id\",\n",
        "        \"cols\" : ['APAAC_0', 'APAAC_1', 'APAAC_2', 'APAAC_3', 'APAAC_4',\n",
        "       'APAAC_5', 'APAAC_6', 'APAAC_7', 'APAAC_8', 'APAAC_9', 'APAAC_10',\n",
        "       'APAAC_11', 'APAAC_12', 'APAAC_13', 'APAAC_14', 'APAAC_15', 'APAAC_16',\n",
        "       'APAAC_17', 'APAAC_18', 'APAAC_19', 'APAAC_20', 'APAAC_21']\n",
        "      },\n",
        "      {\n",
        "        \"train\": PAAC_TR,\n",
        "        \"test\": PAAC_TS,\n",
        "        \"target\" : \"id\",\n",
        "        \"cols\" : ['PAAC_0', 'PAAC_1', 'PAAC_2', 'PAAC_3', 'PAAC_4',\n",
        "       'PAAC_5', 'PAAC_6', 'PAAC_7', 'PAAC_8', 'PAAC_9', 'PAAC_10', 'PAAC_11',\n",
        "       'PAAC_12', 'PAAC_13', 'PAAC_14', 'PAAC_15', 'PAAC_16', 'PAAC_17',\n",
        "       'PAAC_18', 'PAAC_19', 'PAAC_20']\n",
        "      },\n",
        "      {\n",
        "        \"train\": RSacid_TR,\n",
        "        \"test\": RSacid_TS,\n",
        "        \"target\" : \"id\",\n",
        "        \"cols\" : ['RSacid_0', 'RSacid_1', 'RSacid_2', 'RSacid_3',\n",
        "       'RSacid_4', 'RSacid_5', 'RSacid_6', 'RSacid_7', 'RSacid_8', 'RSacid_9',\n",
        "       'RSacid_10', 'RSacid_11', 'RSacid_12', 'RSacid_13', 'RSacid_14',\n",
        "       'RSacid_15', 'RSacid_16', 'RSacid_17', 'RSacid_18', 'RSacid_19',\n",
        "       'RSacid_20', 'RSacid_21', 'RSacid_22', 'RSacid_23', 'RSacid_24',\n",
        "       'RSacid_25', 'RSacid_26', 'RSacid_27', 'RSacid_28', 'RSacid_29',\n",
        "       'RSacid_30', 'RSacid_31']\n",
        "      },\n",
        "      {\n",
        "        \"train\": RScharge_TR,\n",
        "        \"test\": RScharge_TS,\n",
        "        \"target\" : \"id\",\n",
        "        \"cols\" : ['RScharge_0', 'RScharge_1', 'RScharge_2',\n",
        "       'RScharge_3', 'RScharge_4', 'RScharge_5', 'RScharge_6', 'RScharge_7',\n",
        "       'RScharge_8', 'RScharge_9', 'RScharge_10', 'RScharge_11', 'RScharge_12',\n",
        "       'RScharge_13', 'RScharge_14', 'RScharge_15', 'RScharge_16',\n",
        "       'RScharge_17', 'RScharge_18', 'RScharge_19', 'RScharge_20',\n",
        "       'RScharge_21', 'RScharge_22', 'RScharge_23', 'RScharge_24',\n",
        "       'RScharge_25', 'RScharge_26', 'RScharge_27', 'RScharge_28',\n",
        "       'RScharge_29', 'RScharge_30', 'RScharge_31']\n",
        "      }\n",
        "    ]\n",
        "\n",
        "}"
      ],
      "metadata": {
        "id": "5cnW_ONWD9Tf"
      },
      "execution_count": 121,
      "outputs": []
    },
    {
      "cell_type": "code",
      "source": [
        "models = [\n",
        "    {\n",
        "        \"name\": \"XGBoost\",\n",
        "        \"clf\": XGBClassifier()\n",
        "    },\n",
        "    {\n",
        "        \"name\": \"LGBMClassifier\",\n",
        "        \"clf\": LGBMClassifier()\n",
        "    },\n",
        "    {\n",
        "        \"name\": \"DecisionTree\",\n",
        "        \"clf\": DecisionTreeClassifier()\n",
        "    },\n",
        "    {\n",
        "        \"name\": \"SVM\",\n",
        "        \"clf\": SVC()\n",
        "    },\n",
        "    {\n",
        "        \"name\": \"RandomForest\",\n",
        "        \"clf\": RandomForestClassifier()\n",
        "    },\n",
        "    {\n",
        "        \"name\": \"KNN\",\n",
        "        \"clf\": KNeighborsClassifier(n_neighbors=3)\n",
        "    }\n",
        "]"
      ],
      "metadata": {
        "id": "5WMubYK1D-3H"
      },
      "execution_count": 102,
      "outputs": []
    },
    {
      "cell_type": "code",
      "source": [
        "import inspect\n",
        "def encode(x):\n",
        "  if \"Positive\" in x:\n",
        "    return 1\n",
        "  else:\n",
        "    return 0\n",
        "\n",
        "for dataset in datasets[\"data\"]:\n",
        "  for model in models:\n",
        "  \n",
        "    x_train = dataset[\"train\"][dataset[\"cols\"]]\n",
        "    x_test = dataset[\"test\"][dataset[\"cols\"]]\n",
        "    y_train = dataset[\"train\"][\"id\"].apply(encode)\n",
        "    y_test = dataset[\"test\"][\"id\"].apply(encode)\n",
        "\n",
        "    # print(f\"==========================={dataset['cols'][0].split('_')[0]} - {model['name']}==========================\")\n",
        "    clf = model[\"clf\"]\n",
        "    clf.fit(x_train, y_train)\n",
        "    y_pred = clf.predict(x_test)\n",
        "    tn, fp, fn, tp = confusion_matrix(y_test, y_pred).ravel()\n",
        "    specificity = tn / (tn+fp)\n",
        "    sensitivity = tp / (tp+fn)\n",
        "    # print(\"Accuracy:\", accuracy_score(y_test, y_pred))\n",
        "    # print(\"Sensitivity:\", sensitivity)\n",
        "    # print(\"Specificity:\", specificity)\n",
        "    # print(\"Precision:\", precision_score(y_test, y_pred))\n",
        "    # print(\"F1 Score:\", f1_score(y_test, y_pred))\n",
        "    hyperparams = inspect.signature(clf.__init__)\n",
        "    print(hyperparams)"
      ],
      "metadata": {
        "id": "fc5RdyuwfXg7"
      },
      "execution_count": null,
      "outputs": []
    },
    {
      "cell_type": "code",
      "source": [
        "\n"
      ],
      "metadata": {
        "colab": {
          "base_uri": "https://localhost:8080/"
        },
        "id": "yx_LZS8MTR7S",
        "outputId": "db1b7446-27a8-4e1f-cbae-8c89f19418c1"
      },
      "execution_count": 147,
      "outputs": [
        {
          "output_type": "stream",
          "name": "stdout",
          "text": [
            "(n_neighbors=5, *, weights='uniform', algorithm='auto', leaf_size=30, p=2, metric='minkowski', metric_params=None, n_jobs=None)\n"
          ]
        }
      ]
    },
    {
      "cell_type": "markdown",
      "source": [
        "## Q3"
      ],
      "metadata": {
        "id": "QVPQujmvoipZ"
      }
    },
    {
      "cell_type": "code",
      "source": [
        "x_train = pd.concat([ dataset[\"train\"][dataset[\"cols\"]] for dataset in datasets[\"data\"]], axis = 1)\n",
        "x_test = pd.concat([ dataset[\"test\"][dataset[\"cols\"]] for dataset in datasets[\"data\"]], axis = 1)\n",
        "\n",
        "y_train = datasets[\"data\"][0][\"train\"][\"id\"].apply(encode)\n",
        "y_test = datasets[\"data\"][0][\"test\"][\"id\"].apply(encode)"
      ],
      "metadata": {
        "id": "mVZLoef8gGqr"
      },
      "execution_count": 122,
      "outputs": []
    },
    {
      "cell_type": "code",
      "source": [
        "x_train.columns"
      ],
      "metadata": {
        "colab": {
          "base_uri": "https://localhost:8080/"
        },
        "id": "esOOKhmVDW1s",
        "outputId": "a5bb3b62-bda7-44e0-a44b-aba3d47756be"
      },
      "execution_count": 123,
      "outputs": [
        {
          "output_type": "execute_result",
          "data": {
            "text/plain": [
              "Index(['AAC_0', 'AAC_1', 'AAC_2', 'AAC_3', 'AAC_4', 'AAC_5', 'AAC_6', 'AAC_7',\n",
              "       'AAC_8', 'AAC_9',\n",
              "       ...\n",
              "       'RScharge_22', 'RScharge_23', 'RScharge_24', 'RScharge_25',\n",
              "       'RScharge_26', 'RScharge_27', 'RScharge_28', 'RScharge_29',\n",
              "       'RScharge_30', 'RScharge_31'],\n",
              "      dtype='object', length=127)"
            ]
          },
          "metadata": {},
          "execution_count": 123
        }
      ]
    },
    {
      "cell_type": "code",
      "source": [
        "from sklearn.ensemble import ExtraTreesClassifier\n",
        "import matplotlib.pyplot as plt\n",
        "model = XGBClassifier()\n",
        "model.fit(x_train,y_train)\n",
        "\n",
        "feat_importances = pd.Series(model.feature_importances_, index=x_train.columns)\n",
        "# feat_importances.nlargest(40).plot(kind='barh')\n",
        "# plt.show()\n",
        "# feat_importances.sort_values()"
      ],
      "metadata": {
        "id": "ogvnDRyrCS8U"
      },
      "execution_count": null,
      "outputs": []
    },
    {
      "cell_type": "code",
      "source": [
        "for n in [10,20,30]:\n",
        "  cols = feat_importances.sort_values(ascending=[0]).reset_index()['index'][:n]\n",
        "  _x_train = x_train[cols]\n",
        "  _x_test = x_test[cols]\n",
        "  xgb = XGBClassifier()\n",
        "  xgb.fit(_x_train,y_train)\n",
        "  y_pred = xgb.predict(_x_test)\n",
        "  print(f\"F1 Score for {n} features:\", f1_score(y_test, y_pred))\n"
      ],
      "metadata": {
        "id": "lZTOeNaNH8CK"
      },
      "execution_count": null,
      "outputs": []
    },
    {
      "cell_type": "code",
      "source": [
        "selected_features = feat_importances.sort_values(ascending=[0]).reset_index()['index'][:20]\n",
        "\n",
        "x_train_selected = x_train[selected_features]\n",
        "x_test_selected = x_test[selected_features]"
      ],
      "metadata": {
        "id": "ruGh3-HbLPa2"
      },
      "execution_count": 138,
      "outputs": []
    },
    {
      "cell_type": "code",
      "source": [
        "selected_features"
      ],
      "metadata": {
        "id": "FiZ2FUW5T1ZD"
      },
      "execution_count": null,
      "outputs": []
    },
    {
      "cell_type": "code",
      "source": [
        "for model in models:\n",
        "  # print(cross_val_score(clf, x_train, y_train, cv=5))\n",
        "  print(model[\"name\"], np.mean(cross_val_score(model[\"clf\"], x_train_selected, y_train, cv=5)))"
      ],
      "metadata": {
        "colab": {
          "base_uri": "https://localhost:8080/"
        },
        "id": "T-7ru5qPzuAY",
        "outputId": "3455c25b-6433-4137-d8e4-7760fa665ce5"
      },
      "execution_count": 144,
      "outputs": [
        {
          "output_type": "stream",
          "name": "stdout",
          "text": [
            "XGBoost 0.8741425985798926\n",
            "LGBMClassifier 0.8761095555589933\n",
            "DecisionTree 0.8021386693068081\n",
            "SVM 0.7773254644741117\n",
            "RandomForest 0.8721733211639311\n",
            "KNN 0.7541210958649815\n"
          ]
        }
      ]
    },
    {
      "cell_type": "code",
      "source": [
        "def grid_search(params, random=False):\n",
        "\n",
        "    XGB_CLF = LGBMClassifier( booster='gbtree', random_state=1823, nthread=-1,)\n",
        "   \n",
        "    grid = GridSearchCV(estimator=XGB_CLF, param_grid=params, n_jobs=-1 , cv=5, return_train_score=True)\n",
        "    if random: grid = RandomizedSearchCV(estimator=XGB_CLF, param_distributions=params, n_iter=100, scoring='neg_mean_squared_error', n_jobs=-1, cv=5)\n",
        "\n",
        "    grid.fit(x_train_selected.to_numpy(), y_train.to_numpy())\n",
        "\n",
        "    return grid"
      ],
      "metadata": {
        "id": "uI80hVFRSBGX"
      },
      "execution_count": 163,
      "outputs": []
    },
    {
      "cell_type": "code",
      "source": [
        "params={100,\n",
        "        max_depth5,\n",
        "\n",
        "        }\n",
        "\n",
        "grid = grid_search(params,random=True)"
      ],
      "metadata": {
        "colab": {
          "base_uri": "https://localhost:8080/"
        },
        "id": "CqHgwOGxQm8p",
        "outputId": "4b09933c-68c7-41d0-8316-a328a02a3315"
      },
      "execution_count": 164,
      "outputs": [
        {
          "output_type": "stream",
          "name": "stdout",
          "text": [
            "[LightGBM] [Warning] Unknown parameter: booster\n",
            "[LightGBM] [Warning] num_threads is set with nthread=-1, will be overridden by n_jobs=-1. Current value: num_threads=-1\n"
          ]
        }
      ]
    },
    {
      "cell_type": "code",
      "source": [
        "grid.best_params_"
      ],
      "metadata": {
        "colab": {
          "base_uri": "https://localhost:8080/"
        },
        "id": "1XA4HIjQbcUi",
        "outputId": "c99b6b1f-d554-40fd-eb14-d64fefe4b419"
      },
      "execution_count": 165,
      "outputs": [
        {
          "output_type": "execute_result",
          "data": {
            "text/plain": [
              "{'n_estimators': 100, 'max_depth': 5}"
            ]
          },
          "metadata": {},
          "execution_count": 165
        }
      ]
    },
    {
      "cell_type": "code",
      "source": [
        "|x_train , x_test , y_train , y_test = train_test_split(X_train,Y_train,test_size=0.2,random_state=1823)\n",
        "\n",
        "xgb_clf = XGBClassifier()\n",
        "xgb_clf.fit(x_train, y_train)\n",
        "y_pred = xgb_clf.predict(x_test)"
      ],
      "metadata": {
        "id": "H9kbl75yGnCo"
      },
      "execution_count": null,
      "outputs": []
    },
    {
      "cell_type": "code",
      "source": [
        "print(\"Accuracy:\", accuracy_score(y_test, y_pred))\n",
        "print(\"Precision:\", precision_score(y_test, y_pred))\n",
        "print(\"Recall:\", recall_score(y_test, y_pred))\n",
        "print(\"F1 Score:\", f1_score(y_test, y_pred))"
      ],
      "metadata": {
        "id": "FlAuUnB1fcn0"
      },
      "execution_count": null,
      "outputs": []
    },
    {
      "cell_type": "code",
      "source": [
        "random_forest = RandomForestClassifier(n_estimators=100)"
      ],
      "metadata": {
        "id": "ag3inXYFG4za"
      },
      "execution_count": null,
      "outputs": []
    },
    {
      "cell_type": "code",
      "source": [
        "cross_val_preds = cross_val_predict(random_forest , X_train,Y_train)\n",
        "confusion_matrix(Y_train,cross_val_preds)\n",
        "\n",
        "print(cross_val_score(random_forest, X_train, Y_train, cv=5))\n",
        "print(np.mean(cross_val_score(random_forest, X_train, Y_train, cv=5)))\n",
        "\n",
        "print(\"Accuracy:\", accuracy_score(y_test, y_pred))\n",
        "print(\"Precision:\", precision_score(y_test, y_pred))\n",
        "print(\"Recall:\", recall_score(y_test, y_pred))\n",
        "print(\"F1 Score:\", f1_score(y_test, y_pred))"
      ],
      "metadata": {
        "id": "6FLA2RUcG-Od"
      },
      "execution_count": null,
      "outputs": []
    }
  ]
}